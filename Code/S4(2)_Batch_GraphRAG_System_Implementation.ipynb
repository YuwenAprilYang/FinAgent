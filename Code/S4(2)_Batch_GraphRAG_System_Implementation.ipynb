{
  "nbformat": 4,
  "nbformat_minor": 0,
  "metadata": {
    "colab": {
      "provenance": []
    },
    "kernelspec": {
      "name": "python3",
      "display_name": "Python 3"
    },
    "language_info": {
      "name": "python"
    }
  },
  "cells": [
    {
      "cell_type": "markdown",
      "source": [
        "# Step 1: Install Dependencies"
      ],
      "metadata": {
        "id": "hW-qAAjqqQYc"
      }
    },
    {
      "cell_type": "code",
      "execution_count": 1,
      "metadata": {
        "colab": {
          "base_uri": "https://localhost:8080/"
        },
        "id": "EyCUxcwEe8HF",
        "outputId": "0af51954-fa4a-49a6-b5ba-0fb7ca14d927"
      },
      "outputs": [
        {
          "output_type": "stream",
          "name": "stdout",
          "text": [
            "Collecting python-dotenv\n",
            "  Downloading python_dotenv-1.1.0-py3-none-any.whl.metadata (24 kB)\n",
            "Collecting neo4j\n",
            "  Downloading neo4j-5.28.1-py3-none-any.whl.metadata (5.9 kB)\n",
            "Requirement already satisfied: openai in /usr/local/lib/python3.11/dist-packages (1.78.1)\n",
            "Requirement already satisfied: tiktoken in /usr/local/lib/python3.11/dist-packages (0.9.0)\n",
            "Requirement already satisfied: langchain in /usr/local/lib/python3.11/dist-packages (0.3.25)\n",
            "Collecting langchain-openai\n",
            "  Downloading langchain_openai-0.3.18-py3-none-any.whl.metadata (2.3 kB)\n",
            "Collecting langchain-community\n",
            "  Downloading langchain_community-0.3.24-py3-none-any.whl.metadata (2.5 kB)\n",
            "Requirement already satisfied: pytz in /usr/local/lib/python3.11/dist-packages (from neo4j) (2025.2)\n",
            "Requirement already satisfied: anyio<5,>=3.5.0 in /usr/local/lib/python3.11/dist-packages (from openai) (4.9.0)\n",
            "Requirement already satisfied: distro<2,>=1.7.0 in /usr/local/lib/python3.11/dist-packages (from openai) (1.9.0)\n",
            "Requirement already satisfied: httpx<1,>=0.23.0 in /usr/local/lib/python3.11/dist-packages (from openai) (0.28.1)\n",
            "Requirement already satisfied: jiter<1,>=0.4.0 in /usr/local/lib/python3.11/dist-packages (from openai) (0.9.0)\n",
            "Requirement already satisfied: pydantic<3,>=1.9.0 in /usr/local/lib/python3.11/dist-packages (from openai) (2.11.4)\n",
            "Requirement already satisfied: sniffio in /usr/local/lib/python3.11/dist-packages (from openai) (1.3.1)\n",
            "Requirement already satisfied: tqdm>4 in /usr/local/lib/python3.11/dist-packages (from openai) (4.67.1)\n",
            "Requirement already satisfied: typing-extensions<5,>=4.11 in /usr/local/lib/python3.11/dist-packages (from openai) (4.13.2)\n",
            "Requirement already satisfied: regex>=2022.1.18 in /usr/local/lib/python3.11/dist-packages (from tiktoken) (2024.11.6)\n",
            "Requirement already satisfied: requests>=2.26.0 in /usr/local/lib/python3.11/dist-packages (from tiktoken) (2.32.3)\n",
            "Requirement already satisfied: langchain-core<1.0.0,>=0.3.58 in /usr/local/lib/python3.11/dist-packages (from langchain) (0.3.59)\n",
            "Requirement already satisfied: langchain-text-splitters<1.0.0,>=0.3.8 in /usr/local/lib/python3.11/dist-packages (from langchain) (0.3.8)\n",
            "Requirement already satisfied: langsmith<0.4,>=0.1.17 in /usr/local/lib/python3.11/dist-packages (from langchain) (0.3.42)\n",
            "Requirement already satisfied: SQLAlchemy<3,>=1.4 in /usr/local/lib/python3.11/dist-packages (from langchain) (2.0.40)\n",
            "Requirement already satisfied: PyYAML>=5.3 in /usr/local/lib/python3.11/dist-packages (from langchain) (6.0.2)\n",
            "Collecting langchain-core<1.0.0,>=0.3.58 (from langchain)\n",
            "  Downloading langchain_core-0.3.61-py3-none-any.whl.metadata (5.8 kB)\n",
            "Requirement already satisfied: aiohttp<4.0.0,>=3.8.3 in /usr/local/lib/python3.11/dist-packages (from langchain-community) (3.11.15)\n",
            "Requirement already satisfied: tenacity!=8.4.0,<10,>=8.1.0 in /usr/local/lib/python3.11/dist-packages (from langchain-community) (9.1.2)\n",
            "Collecting dataclasses-json<0.7,>=0.5.7 (from langchain-community)\n",
            "  Downloading dataclasses_json-0.6.7-py3-none-any.whl.metadata (25 kB)\n",
            "Collecting pydantic-settings<3.0.0,>=2.4.0 (from langchain-community)\n",
            "  Downloading pydantic_settings-2.9.1-py3-none-any.whl.metadata (3.8 kB)\n",
            "Collecting httpx-sse<1.0.0,>=0.4.0 (from langchain-community)\n",
            "  Downloading httpx_sse-0.4.0-py3-none-any.whl.metadata (9.0 kB)\n",
            "Requirement already satisfied: numpy>=1.26.2 in /usr/local/lib/python3.11/dist-packages (from langchain-community) (2.0.2)\n",
            "Requirement already satisfied: aiohappyeyeballs>=2.3.0 in /usr/local/lib/python3.11/dist-packages (from aiohttp<4.0.0,>=3.8.3->langchain-community) (2.6.1)\n",
            "Requirement already satisfied: aiosignal>=1.1.2 in /usr/local/lib/python3.11/dist-packages (from aiohttp<4.0.0,>=3.8.3->langchain-community) (1.3.2)\n",
            "Requirement already satisfied: attrs>=17.3.0 in /usr/local/lib/python3.11/dist-packages (from aiohttp<4.0.0,>=3.8.3->langchain-community) (25.3.0)\n",
            "Requirement already satisfied: frozenlist>=1.1.1 in /usr/local/lib/python3.11/dist-packages (from aiohttp<4.0.0,>=3.8.3->langchain-community) (1.6.0)\n",
            "Requirement already satisfied: multidict<7.0,>=4.5 in /usr/local/lib/python3.11/dist-packages (from aiohttp<4.0.0,>=3.8.3->langchain-community) (6.4.3)\n",
            "Requirement already satisfied: propcache>=0.2.0 in /usr/local/lib/python3.11/dist-packages (from aiohttp<4.0.0,>=3.8.3->langchain-community) (0.3.1)\n",
            "Requirement already satisfied: yarl<2.0,>=1.17.0 in /usr/local/lib/python3.11/dist-packages (from aiohttp<4.0.0,>=3.8.3->langchain-community) (1.20.0)\n",
            "Requirement already satisfied: idna>=2.8 in /usr/local/lib/python3.11/dist-packages (from anyio<5,>=3.5.0->openai) (3.10)\n",
            "Collecting marshmallow<4.0.0,>=3.18.0 (from dataclasses-json<0.7,>=0.5.7->langchain-community)\n",
            "  Downloading marshmallow-3.26.1-py3-none-any.whl.metadata (7.3 kB)\n",
            "Collecting typing-inspect<1,>=0.4.0 (from dataclasses-json<0.7,>=0.5.7->langchain-community)\n",
            "  Downloading typing_inspect-0.9.0-py3-none-any.whl.metadata (1.5 kB)\n",
            "Requirement already satisfied: certifi in /usr/local/lib/python3.11/dist-packages (from httpx<1,>=0.23.0->openai) (2025.4.26)\n",
            "Requirement already satisfied: httpcore==1.* in /usr/local/lib/python3.11/dist-packages (from httpx<1,>=0.23.0->openai) (1.0.9)\n",
            "Requirement already satisfied: h11>=0.16 in /usr/local/lib/python3.11/dist-packages (from httpcore==1.*->httpx<1,>=0.23.0->openai) (0.16.0)\n",
            "Requirement already satisfied: jsonpatch<2.0,>=1.33 in /usr/local/lib/python3.11/dist-packages (from langchain-core<1.0.0,>=0.3.58->langchain) (1.33)\n",
            "Requirement already satisfied: packaging<25,>=23.2 in /usr/local/lib/python3.11/dist-packages (from langchain-core<1.0.0,>=0.3.58->langchain) (24.2)\n",
            "Requirement already satisfied: orjson<4.0.0,>=3.9.14 in /usr/local/lib/python3.11/dist-packages (from langsmith<0.4,>=0.1.17->langchain) (3.10.18)\n",
            "Requirement already satisfied: requests-toolbelt<2.0.0,>=1.0.0 in /usr/local/lib/python3.11/dist-packages (from langsmith<0.4,>=0.1.17->langchain) (1.0.0)\n",
            "Requirement already satisfied: zstandard<0.24.0,>=0.23.0 in /usr/local/lib/python3.11/dist-packages (from langsmith<0.4,>=0.1.17->langchain) (0.23.0)\n",
            "Requirement already satisfied: annotated-types>=0.6.0 in /usr/local/lib/python3.11/dist-packages (from pydantic<3,>=1.9.0->openai) (0.7.0)\n",
            "Requirement already satisfied: pydantic-core==2.33.2 in /usr/local/lib/python3.11/dist-packages (from pydantic<3,>=1.9.0->openai) (2.33.2)\n",
            "Requirement already satisfied: typing-inspection>=0.4.0 in /usr/local/lib/python3.11/dist-packages (from pydantic<3,>=1.9.0->openai) (0.4.0)\n",
            "Requirement already satisfied: charset-normalizer<4,>=2 in /usr/local/lib/python3.11/dist-packages (from requests>=2.26.0->tiktoken) (3.4.2)\n",
            "Requirement already satisfied: urllib3<3,>=1.21.1 in /usr/local/lib/python3.11/dist-packages (from requests>=2.26.0->tiktoken) (2.4.0)\n",
            "Requirement already satisfied: greenlet>=1 in /usr/local/lib/python3.11/dist-packages (from SQLAlchemy<3,>=1.4->langchain) (3.2.2)\n",
            "Requirement already satisfied: jsonpointer>=1.9 in /usr/local/lib/python3.11/dist-packages (from jsonpatch<2.0,>=1.33->langchain-core<1.0.0,>=0.3.58->langchain) (3.0.0)\n",
            "Collecting mypy-extensions>=0.3.0 (from typing-inspect<1,>=0.4.0->dataclasses-json<0.7,>=0.5.7->langchain-community)\n",
            "  Downloading mypy_extensions-1.1.0-py3-none-any.whl.metadata (1.1 kB)\n",
            "Downloading python_dotenv-1.1.0-py3-none-any.whl (20 kB)\n",
            "Downloading neo4j-5.28.1-py3-none-any.whl (312 kB)\n",
            "\u001b[2K   \u001b[90m━━━━━━━━━━━━━━━━━━━━━━━━━━━━━━━━━━━━━━━━\u001b[0m \u001b[32m312.3/312.3 kB\u001b[0m \u001b[31m13.7 MB/s\u001b[0m eta \u001b[36m0:00:00\u001b[0m\n",
            "\u001b[?25hDownloading langchain_openai-0.3.18-py3-none-any.whl (63 kB)\n",
            "\u001b[2K   \u001b[90m━━━━━━━━━━━━━━━━━━━━━━━━━━━━━━━━━━━━━━━━\u001b[0m \u001b[32m63.4/63.4 kB\u001b[0m \u001b[31m4.5 MB/s\u001b[0m eta \u001b[36m0:00:00\u001b[0m\n",
            "\u001b[?25hDownloading langchain_community-0.3.24-py3-none-any.whl (2.5 MB)\n",
            "\u001b[2K   \u001b[90m━━━━━━━━━━━━━━━━━━━━━━━━━━━━━━━━━━━━━━━━\u001b[0m \u001b[32m2.5/2.5 MB\u001b[0m \u001b[31m43.0 MB/s\u001b[0m eta \u001b[36m0:00:00\u001b[0m\n",
            "\u001b[?25hDownloading dataclasses_json-0.6.7-py3-none-any.whl (28 kB)\n",
            "Downloading httpx_sse-0.4.0-py3-none-any.whl (7.8 kB)\n",
            "Downloading langchain_core-0.3.61-py3-none-any.whl (438 kB)\n",
            "\u001b[2K   \u001b[90m━━━━━━━━━━━━━━━━━━━━━━━━━━━━━━━━━━━━━━━━\u001b[0m \u001b[32m438.3/438.3 kB\u001b[0m \u001b[31m23.5 MB/s\u001b[0m eta \u001b[36m0:00:00\u001b[0m\n",
            "\u001b[?25hDownloading pydantic_settings-2.9.1-py3-none-any.whl (44 kB)\n",
            "\u001b[2K   \u001b[90m━━━━━━━━━━━━━━━━━━━━━━━━━━━━━━━━━━━━━━━━\u001b[0m \u001b[32m44.4/44.4 kB\u001b[0m \u001b[31m2.7 MB/s\u001b[0m eta \u001b[36m0:00:00\u001b[0m\n",
            "\u001b[?25hDownloading marshmallow-3.26.1-py3-none-any.whl (50 kB)\n",
            "\u001b[2K   \u001b[90m━━━━━━━━━━━━━━━━━━━━━━━━━━━━━━━━━━━━━━━━\u001b[0m \u001b[32m50.9/50.9 kB\u001b[0m \u001b[31m3.3 MB/s\u001b[0m eta \u001b[36m0:00:00\u001b[0m\n",
            "\u001b[?25hDownloading typing_inspect-0.9.0-py3-none-any.whl (8.8 kB)\n",
            "Downloading mypy_extensions-1.1.0-py3-none-any.whl (5.0 kB)\n",
            "Installing collected packages: python-dotenv, neo4j, mypy-extensions, marshmallow, httpx-sse, typing-inspect, pydantic-settings, dataclasses-json, langchain-core, langchain-openai, langchain-community\n",
            "  Attempting uninstall: langchain-core\n",
            "    Found existing installation: langchain-core 0.3.59\n",
            "    Uninstalling langchain-core-0.3.59:\n",
            "      Successfully uninstalled langchain-core-0.3.59\n",
            "Successfully installed dataclasses-json-0.6.7 httpx-sse-0.4.0 langchain-community-0.3.24 langchain-core-0.3.61 langchain-openai-0.3.18 marshmallow-3.26.1 mypy-extensions-1.1.0 neo4j-5.28.1 pydantic-settings-2.9.1 python-dotenv-1.1.0 typing-inspect-0.9.0\n"
          ]
        }
      ],
      "source": [
        "!pip install python-dotenv neo4j openai tiktoken langchain langchain-openai langchain-community"
      ]
    },
    {
      "cell_type": "markdown",
      "source": [
        "# Step 2: Load Environment Variables"
      ],
      "metadata": {
        "id": "f5TwOnIurIFP"
      }
    },
    {
      "cell_type": "code",
      "source": [
        "from google.colab import drive\n",
        "drive.mount('/content/drive')\n",
        "\n",
        "from dotenv import load_dotenv\n",
        "import os\n",
        "\n",
        "env_path = '/content/drive/MyDrive/rag2.env'\n",
        "load_dotenv(env_path)\n",
        "\n",
        "NEO4J_URI = os.getenv(\"NEO4J_URI\")\n",
        "NEO4J_USERNAME = os.getenv(\"NEO4J_USERNAME\")\n",
        "NEO4J_PASSWORD = os.getenv(\"NEO4J_PASSWORD\")\n",
        "NEO4J_DATABASE = os.getenv(\"NEO4J_DATABASE\") or \"neo4j\"\n",
        "OPENAI_API_KEY = os.getenv(\"OPENAI_API_KEY\")\n",
        "OPENAI_ENDPOINT = os.getenv(\"OPENAI_BASE_URL\") + \"/embeddings\"\n",
        "\n",
        "# Constants\n",
        "VECTOR_INDEX_NAME = 'form_10k_chunks'\n",
        "VECTOR_NODE_LABEL = 'TextChunk'\n",
        "VECTOR_SOURCE_PROPERTY = 'text'\n",
        "VECTOR_EMBEDDING_PROPERTY = 'textEmbedding'"
      ],
      "metadata": {
        "colab": {
          "base_uri": "https://localhost:8080/"
        },
        "id": "EiAuanJvqfNw",
        "outputId": "fe3657a9-560a-4b88-e6f9-59e3b9bad2e2"
      },
      "execution_count": 2,
      "outputs": [
        {
          "output_type": "stream",
          "name": "stdout",
          "text": [
            "Mounted at /content/drive\n"
          ]
        }
      ]
    },
    {
      "cell_type": "markdown",
      "source": [
        "# Step 3: Connect to Neo4j"
      ],
      "metadata": {
        "id": "DaSmpPLirh-M"
      }
    },
    {
      "cell_type": "code",
      "source": [
        "from langchain_community.graphs import Neo4jGraph\n",
        "\n",
        "kg = Neo4jGraph(\n",
        "    url=NEO4J_URI,\n",
        "    username=NEO4J_USERNAME,\n",
        "    password=NEO4J_PASSWORD,\n",
        "    database=NEO4J_DATABASE\n",
        ")\n",
        "\n",
        "# Check how many chunks exist\n",
        "kg.query(\"MATCH (c:TextChunk) RETURN count(c) AS count\")"
      ],
      "metadata": {
        "colab": {
          "base_uri": "https://localhost:8080/"
        },
        "id": "EArFm1YLrkjO",
        "outputId": "1d1ae72e-8aa6-4a1f-d775-e881d5b200b5"
      },
      "execution_count": 3,
      "outputs": [
        {
          "output_type": "stream",
          "name": "stderr",
          "text": [
            "<ipython-input-3-c4e08c32f350>:3: LangChainDeprecationWarning: The class `Neo4jGraph` was deprecated in LangChain 0.3.8 and will be removed in 1.0. An updated version of the class exists in the :class:`~langchain-neo4j package and should be used instead. To use it run `pip install -U :class:`~langchain-neo4j` and import as `from :class:`~langchain_neo4j import Neo4jGraph``.\n",
            "  kg = Neo4jGraph(\n"
          ]
        },
        {
          "output_type": "execute_result",
          "data": {
            "text/plain": [
              "[{'count': 1346}]"
            ]
          },
          "metadata": {},
          "execution_count": 3
        }
      ]
    },
    {
      "cell_type": "markdown",
      "source": [
        "# Step 4: Compute Embeddings"
      ],
      "metadata": {
        "id": "mqaJ7B_nrvxR"
      }
    },
    {
      "cell_type": "code",
      "source": [
        "kg.query(\"\"\"\n",
        "MATCH (chunk:TextChunk) WHERE chunk.textEmbedding IS NULL\n",
        "WITH chunk, genai.vector.encode(\n",
        "  chunk.text,\n",
        "  \"OpenAI\",\n",
        "  {\n",
        "    token: $openAiApiKey,\n",
        "    endpoint: $openAiEndpoint\n",
        "  }) AS vector\n",
        "CALL db.create.setNodeVectorProperty(chunk, \"textEmbedding\", vector)\n",
        "\"\"\", params={\n",
        "    \"openAiApiKey\": OPENAI_API_KEY,\n",
        "    \"openAiEndpoint\": OPENAI_ENDPOINT\n",
        "})"
      ],
      "metadata": {
        "colab": {
          "base_uri": "https://localhost:8080/"
        },
        "id": "SavMI19trsyB",
        "outputId": "b129fdf6-c9dd-4998-e577-eaed3c0053fb"
      },
      "execution_count": 4,
      "outputs": [
        {
          "output_type": "execute_result",
          "data": {
            "text/plain": [
              "[]"
            ]
          },
          "metadata": {},
          "execution_count": 4
        }
      ]
    },
    {
      "cell_type": "markdown",
      "source": [
        "# Step 5: Search Function to Preview Similar Chunks"
      ],
      "metadata": {
        "id": "pcu4eEpcr1Ik"
      }
    },
    {
      "cell_type": "code",
      "source": [
        "def neo4j_vector_search(question, top_k=5):\n",
        "    query = \"\"\"\n",
        "    WITH genai.vector.encode(\n",
        "      $question,\n",
        "      \"OpenAI\",\n",
        "      {\n",
        "        token: $openAiApiKey,\n",
        "        endpoint: $openAiEndpoint\n",
        "      }) AS question_embedding\n",
        "    CALL db.index.vector.queryNodes($index_name, $top_k, question_embedding) YIELD node, score\n",
        "    RETURN score, node.text AS text, node.company AS company, node.year AS year\n",
        "    ORDER BY score DESC\n",
        "    \"\"\"\n",
        "    return kg.query(query, params={\n",
        "        'question': question,\n",
        "        'openAiApiKey': OPENAI_API_KEY,\n",
        "        'openAiEndpoint': OPENAI_ENDPOINT,\n",
        "        'index_name': VECTOR_INDEX_NAME,\n",
        "        'top_k': top_k\n",
        "    })\n",
        "\n",
        "# Example usage\n",
        "results = neo4j_vector_search(\"What is Walmart's business model?\", top_k=10)\n",
        "for r in results:\n",
        "    print(f\"[{r['company']} {r['year']}] ({r['score']:.3f}) → {r['text'][:150]}...\")"
      ],
      "metadata": {
        "colab": {
          "base_uri": "https://localhost:8080/"
        },
        "id": "OnG0m-MdsJV9",
        "outputId": "1e8ca46f-5f4f-49b5-b6ec-14d9e30e20e9"
      },
      "execution_count": 11,
      "outputs": [
        {
          "output_type": "stream",
          "name": "stdout",
          "text": [
            "[WMT 2025] (0.928) → ITEM 1. BUSINESS General Walmart Inc. (\"Walmart,\" the \"Company\" or \"we\") is a people-led, technology-powered omni-channel retailer dedicated to helpin...\n",
            "[WMT 2025] (0.922) → and eCommerce innovation, which enables us to leverage technology, talent and expertise, and expand our assortment and service offerings. We are enhan...\n",
            "[WMT 2025] (0.922) → two major categories: retail and wholesale. These categories consist of many formats, including: supercenters, supermarkets, warehouse clubs (includin...\n",
            "[WMT 2025] (0.921) → stores and eCommerce, such as through our pickup and delivery services in most of our markets, including same-day delivery. We continue to expand our ...\n",
            "[WMT 2025] (0.919) → for brands and online marketplace sellers, supply chain and fulfillment capabilities to online marketplace sellers, and data analytics and insights fo...\n",
            "[WMT 2025] (0.919) → national and global suppliers the opportunity to grow with us. • Sustainability . Walmart's sustainability efforts endeavor to create and preserve lon...\n",
            "[WMT 2025] (0.919) → is contained in Note 12 to our Consolidated Financial Statements. 6 Walmart U.S. Segment Walmart U.S. is our largest segment and operates 4,605 stores...\n",
            "[WMT 2025] (0.917) → year basis. Our discussion is as of, and for the fiscal years ended, January 31, 2025 (\"fiscal 2025\"), January 31, 2024 (\"fiscal 2024\") and January 31...\n",
            "[WMT 2025] (0.914) → Item 1A. Risk Factors \" under the sub-caption \"Legal, Tax, Regulatory, Compliance, Reputational and Other Risks.\" 10 Our Shared Value Priorities We se...\n",
            "[WMT 2025] (0.911) → meat, produce, deli and bakery, frozen foods, alcoholic and nonalcoholic beverages, as well as consumables such as health and beauty aids, pet supplie...\n"
          ]
        }
      ]
    },
    {
      "cell_type": "code",
      "source": [
        "def neo4j_vector_search_batch(questions, top_k=5):\n",
        "    all_results = {}\n",
        "    for question in questions:\n",
        "        query = \"\"\"\n",
        "        WITH genai.vector.encode(\n",
        "          $question,\n",
        "          \"OpenAI\",\n",
        "          {\n",
        "            token: $openAiApiKey,\n",
        "            endpoint: $openAiEndpoint\n",
        "          }) AS question_embedding\n",
        "        CALL db.index.vector.queryNodes($index_name, $top_k, question_embedding) YIELD node, score\n",
        "        RETURN score, node.text AS text, node.company AS company, node.year AS year\n",
        "        \"\"\"\n",
        "        results = kg.query(query, params={\n",
        "            'question': question,\n",
        "            'openAiApiKey': OPENAI_API_KEY,\n",
        "            'openAiEndpoint': OPENAI_ENDPOINT,\n",
        "            'index_name': VECTOR_INDEX_NAME,\n",
        "            'top_k': top_k\n",
        "        })\n",
        "        all_results[question] = results\n",
        "    return all_results"
      ],
      "metadata": {
        "id": "BhGv6ehou4mx"
      },
      "execution_count": 12,
      "outputs": []
    },
    {
      "cell_type": "code",
      "source": [
        "questions = [\n",
        "    \"What is Apple's business model?\",\n",
        "    \"What risks are mentioned by Tesla?\",\n",
        "    \"How does Microsoft handle competition?\"\n",
        "]\n",
        "\n",
        "results = neo4j_vector_search_batch(questions, top_k=5)\n",
        "\n",
        "for question, answers in results.items():\n",
        "    print(f\"\\n--- Question: {question} ---\")\n",
        "    for r in answers:\n",
        "        print(f\"[{r.get('company')} {r.get('year')}] ({r['score']:.3f}) → {r['text']}\")"
      ],
      "metadata": {
        "colab": {
          "base_uri": "https://localhost:8080/"
        },
        "id": "fvdEK2Fpu5lw",
        "outputId": "85571731-3600-45d1-fbd5-d74a76e2cabe"
      },
      "execution_count": 15,
      "outputs": [
        {
          "output_type": "stream",
          "name": "stdout",
          "text": [
            "\n",
            "--- Question: What is Apple's business model? ---\n",
            "[AAPL 2024] (0.917) → Item 1. Business Company Background The Company designs, manufactures and markets smartphones, personal computers, tablets, wearables and accessories, and sells a variety of related services. The Company’s fiscal year is the 52- or 53-week period that ends on the last Saturday of September. Products iPhone iPhone ® is the Company’s line of smartphones based on its iOS operating system. The iPhone line includes iPhone 16 Pro, iPhone 16, iPhone 15, iPhone 14 and iPhone SE ® . Mac Mac ® is the Company’s line of personal computers based on its macOS ® operating system. The Mac line includes laptops MacBook Air ® and MacBook Pro ® , as well as desktops iMac ® , Mac mini ® , Mac Studio ® and Mac Pro ® . iPad iPad ® is the Company’s line of multipurpose tablets based on its iPadOS ® operating system. The iPad line includes iPad Pro ® , iPad Air ® , iPad and iPad mini ® . Wearables, Home and Accessories Wearables includes smartwatches, wireless headphones and spatial computers. The Company’s line of smartwatches, based on its watchOS ® operating system, includes Apple Watch Ultra ® 2, Apple Watch ® Series 10 and Apple Watch SE ® . The Company’s line of wireless headphones includes AirPods ® , AirPods Pro ® , AirPods Max ® and Beats ® products. Apple Vision Pro™ is the Company’s first spatial computer based on its visionOS™ operating system. Home includes Apple TV ® , the Company’s media streaming and gaming device based on its tvOS ® operating system, and HomePod ® and HomePod mini ® , high-fidelity wireless smart speakers. Accessories includes Apple-branded and third-party accessories. Apple Inc. | 2024 Form 10-K | 1 Services Advertising The Company’s advertising services include third-party licensing arrangements and the Company’s own advertising platforms. AppleCare The Company offers a portfolio of fee-based service and support products under the AppleCare ® brand. The offerings provide priority access to Apple technical support, access to the global Apple authorized\n",
            "[AAPL 2024] (0.914) → offers a portfolio of fee-based service and support products under the AppleCare ® brand. The offerings provide priority access to Apple technical support, access to the global Apple authorized service network for repair and replacement services, and in many cases additional coverage for instances of accidental damage or theft and loss, depending on the country and type of product. Cloud Services The Company’s cloud services store and keep customers’ content up-to-date and available across multiple Apple devices and Windows personal computers. Digital Content The Company operates various platforms, including the App Store ® , that allow customers to discover and download applications and digital content, such as books, music, video, games and podcasts. The Company also offers digital content through subscription-based services, including Apple Arcade ® , a game subscription service; Apple Fitness+ SM , a personalized fitness service; Apple Music ® , which offers users a curated listening experience with on-demand radio stations; Apple News+ ® , a subscription news and magazine service; and Apple TV+ ® , which offers exclusive original content and live sports. Payment Services The Company offers payment services, including Apple Card ® , a co-branded credit card, and Apple Pay ® , a cashless payment service. Segments The Company manages its business primarily on a geographic basis. The Company’s reportable segments consist of the Americas, Europe, Greater China, Japan and Rest of Asia Pacific. Americas includes both North and South America. Europe includes European countries, as well as India, the Middle East and Africa. Greater China includes China mainland, Hong Kong and Taiwan. Rest of Asia Pacific includes Australia and those Asian countries not included in the Company’s other reportable segments. Although the reportable segments provide similar hardware and software products and similar services, each one is managed separately to better align with the location\n",
            "[AAPL 2024] (0.913) → been able to obtain such licenses on commercially reasonable terms in the past, there is no guarantee that such licenses could be obtained in the future on reasonable terms or at all. Apple Inc. | 2024 Form 10-K | 3 Business Seasonality and Product Introductions The Company has historically experienced higher net sales in its first quarter compared to other quarters in its fiscal year due in part to seasonal holiday demand. Additionally, new product and service introductions can significantly impact net sales, cost of sales and operating expenses. The timing of product introductions can also impact the Company’s net sales to its indirect distribution channels as these channels are filled with new inventory following a product launch, and channel inventory of an older product often declines as the launch of a newer product approaches. Net sales can also be affected when consumers and distributors anticipate a product introduction. Human Capital The Company believes that its people play an important role in its success, and strives to attract, develop and retain the best talent. The Company works to create an inclusive, safe and supportive environment for all of its team members, so that its people can do the best work of their lives. As of September 28, 2024, the Company had approximately 164,000 full-time equivalent employees. Compensation and Benefits The Company believes that compensation should be competitive and equitable, and should enable employees to share in the Company’s success. The Company recognizes its people are most likely to thrive when they have the resources to meet their needs and the time and support to succeed in their professional and personal lives. In support of this, the Company offers a wide variety of benefits for employees around the world, including health, wellness and time away. Growth and Development The Company invests in resources to help its people develop and achieve their career goals. The Company offers programs through Apple\n",
            "[AAPL 2024] (0.910) → other reportable segments. Although the reportable segments provide similar hardware and software products and similar services, each one is managed separately to better align with the location of the Company’s customers and distribution partners and the unique market dynamics of each geographic region. Markets and Distribution The Company’s customers are primarily in the consumer, small and mid-sized business, education, enterprise and government markets. The Company sells its products and resells third-party products in most of its major markets directly to customers through its retail and online stores and its direct sales force. The Company also employs a variety of indirect distribution channels, such as third-party cellular network carriers, wholesalers, retailers and resellers. During 2024, the Company’s net sales through its direct and indirect distribution channels accounted for 38% and 62%, respectively, of total net sales. Competition The markets for the Company’s products and services are highly competitive, and are characterized by aggressive price competition and resulting downward pressure on gross margins, frequent introduction of new products and services, short product life cycles, evolving industry standards, continual improvement in product price and performance characteristics, rapid adoption of technological advancements by competitors, and price sensitivity on the part of consumers and businesses. Many of the Company’s competitors seek to compete primarily through aggressive pricing and very low cost structures, and by imitating the Company’s products and infringing on its intellectual property. Apple Inc. | 2024 Form 10-K | 2 The Company’s ability to compete successfully depends heavily on ensuring the continuing and timely introduction of innovative new products, services and technologies to the marketplace. The Company designs and develops nearly the entire solution for its products, including the hardware, operating system, numerous\n",
            "[AAPL 2024] (0.906) → applications. The Company’s business, results of operations and financial condition depend substantially on the Company’s ability to continually improve its products and services to maintain their functional and design advantages. There can be no assurance the Company will be able to continue to provide products and services that compete effectively. Business Risks To remain competitive and stimulate customer demand, the Company must successfully manage frequent introductions and transitions of products and services. Due to the highly volatile and competitive nature of the markets and industries in which the Company competes, the Company must continually introduce new products, services and technologies, enhance existing products and services, effectively stimulate customer demand for new and upgraded products and services, and successfully manage the transition to these new and upgraded products and services. The success of new product and service introductions depends on a number of factors, including timely and successful development, market acceptance, the Company’s ability to manage the risks associated with new technologies and production ramp-up issues, the availability of application software or other third-party support for the Company’s products and services, the effective management of purchase commitments and inventory levels in line with anticipated product demand, the availability of products in appropriate quantities and at expected costs to meet anticipated demand, and the risk that new products and services may have quality or other defects or deficiencies. New products, services and technologies may replace or supersede existing offerings and may produce lower revenues and lower profit margins, which can materially adversely impact the Company’s business, results of operations and financial condition. There can be no assurance the Company will successfully manage future introductions and transitions of products and services. Apple Inc. | 2024 Form\n",
            "\n",
            "--- Question: What risks are mentioned by Tesla? ---\n",
            "[TSLA 2025] (0.915) → contain by venting smoke and flames in a manner that can ignite nearby materials as well as other lithium-ion cells. While we have designed our battery packs to passively contain any single cell’s release of energy without spreading to neighboring cells, there can be no assurance that a field or testing failure of our vehicles or other battery packs that we produce will not occur, in particular due to a high-speed crash. Likewise, as our solar energy systems and energy storage products generate and store electricity, they have the potential to fail or cause injury to people or property. Any product liability claim may subject us to lawsuits and substantial monetary damages, product recalls or redesign efforts, and even a meritless claim may require us to defend it, all of which may generate negative publicity and be expensive and time-consuming. In most jurisdictions, we generally self-insure against the risk of product liability claims for vehicle exposure, meaning that any product liability claims will likely have to be paid from company funds and not by insurance. We will need to maintain public credibility and confidence in our long-term business prospects in order to succeed. In order to maintain and grow our business, we must maintain credibility and confidence among customers, suppliers, analysts, investors, ratings agencies and other parties in our long-term financial viability and business prospects. Maintaining such confidence may be challenging due to our limited operating history relative to established competitors; customer unfamiliarity with our products; any delays we may experience in scaling manufacturing, delivery and service operations to meet demand; competition and uncertainty regarding the future of electric vehicles or our other products and services; our quarterly production and sales performance compared with market expectations; and other factors including those over which we have no control. In particular, Tesla’s products, business,\n",
            "[TSLA 2025] (0.910) → regional instability and geopolitical shifts; airspace bans relating to certain routes, or strategic decisions to alter certain routes; and potential retaliatory action by the Russian government against companies, and the extent of the conflict on our business and operating results cannot be predicted. We may incur expenses or delays relating to such events outside of our control, which could have a material adverse impact on our business, operating results and financial condition. Risks Related to Government Laws and Regulations Demand for our products and services may be impacted by the status of government and economic incentives supporting the development and adoption of such products. Government and economic incentives that support the development and adoption of electric vehicles in the U.S. and abroad, including certain tax exemptions, tax credits and rebates, may be reduced, eliminated, amended or exhausted from time to time. For example, previously available incentives favoring electric vehicles in certain areas have expired or were cancelled or temporarily unavailable, and in some cases were not eventually replaced or reinstituted, which may have negatively impacted sales. In addition, certain government and economic incentives may also be implemented or amended to provide benefits to manufacturers who assemble domestically, have local suppliers or have other characteristics that may not apply to Tesla. Such developments could negatively impact demand for our vehicles, and we and our customers may have to adjust to them, including through pricing modifications. In addition, certain governmental rebates, tax credits and other financial incentives that are currently available with respect to our solar and energy storage product businesses allow us to lower our costs and encourage customers to buy our products and investors to invest in our solar financing funds. However, these incentives may expire when the allocated funding is exhausted, reduced or\n",
            "[TSLA 2025] (0.909) → ITEM 1A. RISK FACTORS You should carefully consider the risks described below together with the other information set forth in this report, which could materially affect our business, financial condition and future results. The risks described below are not the only risks facing our company. Risks and uncertainties not currently known to us or that we currently deem to be immaterial also may materially adversely affect our business, financial condition and operating results. Risks Related to Our Ability to Grow Our Business We may experience delays in launching and ramping the production of our products and features, or we may be unable to control our manufacturing costs. We have previously experienced and may in the future experience launch and production ramp delays for new products and features. For example, we encountered unanticipated supplier issues that led to delays during the initial ramp of our first Model X and experienced challenges with a supplier and with ramping full automation for certain of our initial Model 3 manufacturing processes. In addition, we may introduce in the future new or unique manufacturing processes and design features for our products. As we expand our vehicle offerings and global footprint, there is no guarantee that we will be able to successfully and timely introduce and scale such processes or features. 13 Table of Contents In particular, our future business depends in large part on increasing the production of mass-market vehicles. In order to be successful, we will need to implement, maintain and ramp efficient and cost-effective manufacturing capabilities, processes and supply chains and achieve the design tolerances, high quality and output rates we have planned at our manufacturing facilities in California, Nevada, Texas, China, Germany and any future sites such as Mexico. We will also need to hire, train and compensate skilled employees to operate these facilities. Bottlenecks and other unexpected challenges such as those\n",
            "[TSLA 2025] (0.909) → satisfy our customers. We have performed, and continue to perform, extensive internal testing on our products and features, though, like the rest of the industry, we currently have a limited frame of reference by which to evaluate certain aspects of their long-term quality, reliability, durability and performance characteristics, including exposure to or consequence of external attacks. While we attempt to identify and address or remedy defects we identify pre-production and sale, there may be latent defects that we may be unable to detect or control for in our products, and thereby address, prior to their sale to or installation for customers. 17 Table of Contents We may be required to defend or insure against product liability claims. The automobile industry generally experiences significant product liability claims, and as such we face the risk of such claims in the event our vehicles do not perform or are claimed to not have performed as expected. As is true for other automakers, our vehicles have been involved and we expect in the future will be involved in accidents resulting in death or personal injury, and such accidents where Autopilot, Enhanced Autopilot or FSD (Supervised) features are engaged are the subject of significant public attention, especially in light of NHTSA’s Standing General Order requiring reports regarding certain crashes involving vehicles with advanced driver assistance systems. We have experienced, and we expect to continue to face, claims and regulatory scrutiny arising from or related to misuse or claimed failures or alleged misrepresentations of such new technologies that we are pioneering. In addition, the battery packs that we produce make use of lithium-ion cells. On rare occasions, lithium-ion cells can rapidly release the energy they contain by venting smoke and flames in a manner that can ignite nearby materials as well as other lithium-ion cells. While we have designed our battery packs to passively contain any single cell’s\n",
            "[TSLA 2025] (0.907) → actions, whether voluntary or involuntary or caused by systems or components engineered or manufactured by us or our suppliers, could result in significant expense, supply chain complications and service burdens, and may harm our brand, business, prospects, financial condition and operating results. Our current and future warranty reserves may be insufficient to cover future warranty claims. We provide a manufacturer’s warranty on all new and used Tesla vehicles we sell directly to customers. We also provide certain warranties with respect to the energy generation and storage systems we sell, including on their installation and maintenance. For components not manufactured by us, we generally pass through to our customers the applicable manufacturers’ warranties, but may retain some warranty responsibilities for some or all of the life of such components. As part of our energy generation and storage system contracts, we may provide the customer with performance guarantees that guarantee that the underlying system will meet or exceed the minimum energy generation or other energy performance requirements specified in the contract. Under these performance guarantees, we generally bear the risk of electricity production or other performance shortfalls, including in some cases shortfalls caused by failures in components from third party manufacturers. These risks are exacerbated in the event such manufacturers cease operations or fail to honor their warranties. 21 Table of Contents If our warranty reserves are inadequate to cover future warranty claims on our products, our financial condition and operating results may be harmed. Warranty reserves include our management’s best estimates of the projected costs to repair or to replace items under warranty, which are based on actual claims incurred to date and an estimate of the nature, frequency and costs of future claims. Such estimates are inherently uncertain and changes to our historical or projected experience,\n",
            "\n",
            "--- Question: How does Microsoft handle competition? ---\n",
            "[AAPL 2024] (0.906) → maintaining and upgrading such software and services for the Company’s products compared to competitors’ platforms, such as Android for smartphones and tablets, Windows for personal computers and tablets, and PlayStation, Nintendo and Xbox for gaming platforms. This analysis may be based on factors such as the market position of the Company and its products, the anticipated revenue that may be generated, expected future growth of product sales, and the costs of developing such applications and services. The Company’s minority market share in the global smartphone, personal computer and tablet markets can make developers less inclined to develop or upgrade software for the Company’s products and more inclined to devote their resources to developing and upgrading software for competitors’ products with larger market share. When developers focus their efforts on these competing platforms, the availability and quality of applications for the Company’s devices can suffer. The Company relies on the continued availability and development of compelling and innovative software applications for its products. The Company’s products and operating systems are subject to rapid technological change, and when third-party developers are unable to or choose not to keep up with this pace of change, their applications can fail to take advantage of these changes to deliver improved customer experiences, can operate incorrectly, and can result in dissatisfied customers and lower customer demand for the Company’s products. The Company distributes third-party applications for its products through the App Store. For the vast majority of applications, developers keep all of the revenue they generate on the App Store. Where applicable, the Company retains a commission from sales of applications and sales of digital services or goods initiated within an application. From time to time, the Company has made changes to its products and services, including taking actions in response to\n",
            "[AAPL 2024] (0.905) → intellectual property, the Company’s ability to maintain a competitive advantage could be materially adversely affected. The Company has a minority market share in the global smartphone, personal computer and tablet markets. The Company faces substantial competition in these markets from companies that have significant technical, marketing, distribution and other resources, as well as established hardware, software and digital content supplier relationships. In addition, some of the Company’s competitors have broader product lines, lower-priced products and a larger installed base of active devices. Competition has been particularly intense as competitors have aggressively cut prices and lowered product margins. Certain competitors have the resources, experience or cost structures to provide products at little or no profit or even at a loss. Some of the markets in which the Company competes have from time to time experienced little to no growth or contracted overall. Additionally, the Company faces significant competition as competitors imitate the Company’s product features and applications within their products or collaborate to offer solutions that are more competitive than those they currently offer. The Company also expects competition to intensify as competitors imitate the Company’s approach to providing components seamlessly within their offerings or work collaboratively to offer integrated solutions. The Company’s services also face substantial competition, including from companies that have significant resources and experience and have established service offerings with large customer bases. The Company competes with business models that provide content to users for free. The Company also competes with illegitimate means to obtain third-party digital content and applications. The Company’s business, results of operations and financial condition depend substantially on the Company’s ability to continually improve its products and services to maintain their\n",
            "[AAPL 2024] (0.905) → innovative new products, services and technologies to the marketplace. The Company designs and develops nearly the entire solution for its products, including the hardware, operating system, numerous software applications and related services. Principal competitive factors important to the Company include price, product and service features (including security features), relative price and performance, product and service quality and reliability, design innovation, a strong third-party software and accessories ecosystem, marketing and distribution capability, service and support, and corporate reputation. The Company is focused on expanding its market opportunities related to smartphones, personal computers, tablets, wearables and accessories, and services. The Company faces substantial competition in these markets from companies that have significant technical, marketing, distribution and other resources, as well as established hardware, software, and service offerings with large customer bases. In addition, some of the Company’s competitors have broader product lines, lower-priced products and a larger installed base of active devices. Competition has been particularly intense as competitors have aggressively cut prices and lowered product margins. Certain competitors have the resources, experience or cost structures to provide products at little or no profit or even at a loss. The Company’s services compete with business models that provide content to users for free and use illegitimate means to obtain third-party digital content and applications. The Company faces significant competition as competitors imitate the Company’s product features and applications within their products, or collaborate to offer integrated solutions that are more competitive than those they currently offer. Supply of Components Although most components essential to the Company’s business are generally available from multiple sources, certain components are currently obtained from single\n",
            "[NVDA 2025] (0.895) → performance or additional features not provided by our products. In addition, it is possible that new competitors or alliances among competitors could emerge and acquire significant market share. A significant source of competition comes from companies that provide or intend to provide GPUs, CPUs, DPUs, embedded SoCs, and other accelerated, AI computing processor products, and providers of semiconductor-based high-performance interconnect products based on InfiniBand, Ethernet, Fibre Channel, and proprietary technologies. Some of our competitors may have greater marketing, financial, distribution and manufacturing resources than we do and may be more able to adapt to customers or technological changes. We expect an increasingly competitive environment in the future. Our current competitors include: • suppliers and licensors of hardware and software for discrete and integrated GPUs, custom chips and other accelerated computing solutions, including solutions offered for AI, such as Advanced Micro Devices, Inc., or AMD, Huawei Technologies Co. Ltd., or Huawei, and Intel Corporation, or Intel; • large cloud services companies with internal teams designing hardware and software that incorporate accelerated or AI computing functionality as part of their internal solutions or platforms, such as Alibaba Group, Alphabet Inc., Amazon, Inc., or Amazon, Baidu, Inc., Huawei, and Microsoft Corporation, or Microsoft; • suppliers of Arm-based CPUs and companies that incorporate hardware and software for CPUs as part of their internal solutions or platforms, such as Amazon, Huawei, and Microsoft; • suppliers of hardware and software for SoC products that are used in servers or embedded into automobiles, autonomous machines, and gaming devices, such as Ambarella, Inc., AMD, Broadcom, Inc., or Broadcom, Intel, Qualcomm Incorporated, Renesas Electronics Corporation, and Samsung, or companies with internal teams designing SoC products for their own products and services, such as Tesla,\n",
            "[AAPL 2024] (0.893) → may be unable to compete effectively in these markets. The Company’s products and services are offered in highly competitive global markets characterized by aggressive price competition and resulting downward pressure on gross margins, frequent introduction of new products and services, short product life cycles, evolving industry standards, continual improvement in product price and performance characteristics, rapid adoption of technological advancements by competitors, and price sensitivity on the part of consumers and businesses. The Company’s ability to compete successfully depends heavily on ensuring the continuing and timely introduction of innovative new products, services and technologies to the marketplace. The Company designs and develops nearly the entire solution for its products, including the hardware, operating system, numerous software applications and related services. As a result, the Company must make significant investments in R&D. There can be no assurance these investments will achieve expected returns, and the Company may not be able to develop and market new products and services successfully. The Company currently holds a significant number of patents, trademarks and copyrights and has registered, and applied to register, additional patents, trademarks and copyrights. In contrast, many of the Company’s competitors seek to compete primarily through aggressive pricing and very low cost structures, and by imitating the Company’s products and infringing on its intellectual property. Effective intellectual property protection is not consistently available in every country in which the Company operates. If the Company is unable to continue to develop and sell innovative new products with attractive margins or if competitors infringe on the Company’s intellectual property, the Company’s ability to maintain a competitive advantage could be materially adversely affected. The Company has a minority market share in the global smartphone, personal\n"
          ]
        }
      ]
    },
    {
      "cell_type": "markdown",
      "source": [
        "# Step 6: Setup LangChain GraphRAG"
      ],
      "metadata": {
        "id": "nxftnBm9r9B-"
      }
    },
    {
      "cell_type": "code",
      "source": [
        "from langchain_openai import OpenAIEmbeddings, ChatOpenAI\n",
        "from langchain_community.vectorstores import Neo4jVector\n",
        "from langchain.chains import RetrievalQAWithSourcesChain\n",
        "import textwrap\n",
        "\n",
        "# Create a vector store from the graph\n",
        "vector_store = Neo4jVector.from_existing_graph(\n",
        "    embedding=OpenAIEmbeddings(openai_api_key=OPENAI_API_KEY),\n",
        "    url=NEO4J_URI,\n",
        "    username=NEO4J_USERNAME,\n",
        "    password=NEO4J_PASSWORD,\n",
        "    index_name=VECTOR_INDEX_NAME,\n",
        "    node_label=VECTOR_NODE_LABEL,\n",
        "    text_node_properties=[VECTOR_SOURCE_PROPERTY],\n",
        "    embedding_node_property=VECTOR_EMBEDDING_PROPERTY,\n",
        ")\n",
        "\n",
        "retriever = vector_store.as_retriever()\n",
        "\n",
        "# Setup RAG chain\n",
        "qa_chain = RetrievalQAWithSourcesChain.from_chain_type(\n",
        "    llm=ChatOpenAI(temperature=0, openai_api_key=OPENAI_API_KEY),\n",
        "    chain_type=\"stuff\",\n",
        "    retriever=retriever\n",
        ")"
      ],
      "metadata": {
        "id": "vlNdvNuYr_PV"
      },
      "execution_count": 16,
      "outputs": []
    },
    {
      "cell_type": "markdown",
      "source": [
        "# Step 7: Ask Questions with LLM"
      ],
      "metadata": {
        "id": "bGNi0hyFsKlQ"
      }
    },
    {
      "cell_type": "code",
      "source": [
        "def prettychain(question: str):\n",
        "    response = qa_chain({\"question\": question}, return_only_outputs=True)\n",
        "    print(\"\\nAnswer:\\n\" + textwrap.fill(response[\"answer\"], width=80))"
      ],
      "metadata": {
        "id": "Z2hrlVF7sIve"
      },
      "execution_count": 17,
      "outputs": []
    },
    {
      "cell_type": "code",
      "source": [
        "# Ask real questions\n",
        "prettychain(\"What is Netflix's primary business?\")"
      ],
      "metadata": {
        "colab": {
          "base_uri": "https://localhost:8080/"
        },
        "id": "7cya7oilsPdJ",
        "outputId": "f8509939-0435-4b24-afee-8ab0e932f153"
      },
      "execution_count": 19,
      "outputs": [
        {
          "output_type": "stream",
          "name": "stdout",
          "text": [
            "\n",
            "Answer:\n",
            "Netflix's primary business is providing entertainment services through streaming\n",
            "content to its members.\n"
          ]
        }
      ]
    },
    {
      "cell_type": "code",
      "source": [
        "prettychain(\"Where is Apple headquartered?\")"
      ],
      "metadata": {
        "colab": {
          "base_uri": "https://localhost:8080/"
        },
        "id": "QUkS2hm6s0-K",
        "outputId": "0ad0c998-ffc2-448a-dba9-1a4ccee335d2"
      },
      "execution_count": 20,
      "outputs": [
        {
          "output_type": "stream",
          "name": "stdout",
          "text": [
            "\n",
            "Answer:\n",
            "Apple is headquartered in Cupertino, California, United States.\n"
          ]
        }
      ]
    },
    {
      "cell_type": "code",
      "source": [
        "prettychain(\"What are the top risks mentioned in Johnson & Johnson's 10-K?\")"
      ],
      "metadata": {
        "colab": {
          "base_uri": "https://localhost:8080/"
        },
        "id": "N8ntm1LZs2PL",
        "outputId": "67b6ac20-eb42-4478-927f-1c0e50fb4fb9"
      },
      "execution_count": 21,
      "outputs": [
        {
          "output_type": "stream",
          "name": "stdout",
          "text": [
            "\n",
            "Answer:\n",
            "The top risks mentioned in Johnson & Johnson's 10-K include legal proceedings,\n",
            "intellectual property rights challenges, and product reliability concerns.\n"
          ]
        }
      ]
    },
    {
      "cell_type": "code",
      "source": [
        "prettychain(\"Where are the primary suppliers for Tesla?\")"
      ],
      "metadata": {
        "colab": {
          "base_uri": "https://localhost:8080/"
        },
        "id": "AQ7F65lhs8Ko",
        "outputId": "a87b00f6-b5d0-4ffb-f72f-b91f6f14acf5"
      },
      "execution_count": 24,
      "outputs": [
        {
          "output_type": "stream",
          "name": "stdout",
          "text": [
            "\n",
            "Answer:\n",
            "Tesla's primary suppliers for battery cells are Panasonic and Contemporary\n",
            "Amperex Technology Co. Limited (CATL).\n"
          ]
        }
      ]
    },
    {
      "cell_type": "code",
      "source": [
        "prettychain(\"How is ExxonMobil addressing climate change and the energy transition?\")"
      ],
      "metadata": {
        "colab": {
          "base_uri": "https://localhost:8080/"
        },
        "id": "FCQ0flsRs-Cc",
        "outputId": "c84b1ff2-4dac-4356-e95d-019707b68de2"
      },
      "execution_count": 27,
      "outputs": [
        {
          "output_type": "stream",
          "name": "stdout",
          "text": [
            "\n",
            "Answer:\n",
            "ExxonMobil is addressing climate change and the energy transition by\n",
            "establishing a Low Carbon Solutions (LCS) business unit and continuing efforts\n",
            "in existing businesses to advance the development and deployment of technologies\n",
            "and projects such as CCS, hydrogen, lower-emission fuels, and lithium. They are\n",
            "also collaborating with universities and commercial partners to drive\n",
            "breakthroughs in cancer, Alzheimer’s, diabetes, and more. ExxonMobil aims to\n",
            "play a leading role in the energy transition and achieve net zero emissions with\n",
            "the support of technology advancements and government policies.\n"
          ]
        }
      ]
    },
    {
      "cell_type": "markdown",
      "source": [
        "## 📊 Stage 4(2):  Batch GraphRAG System Implementation Summary\n",
        "\n",
        "### 🎯 Objective\n",
        "To extend the GraphRAG system into a **scalable, batch-capable prototype**, allowing multi-company 10-K filings to be ingested, structured as a Neo4j knowledge graph, embedded with vector search capabilities, and queried via an LLM through a Retrieval-Augmented Generation (RAG) pipeline.\n",
        "\n",
        "---\n",
        "\n",
        "### ✅ Key Components and What Was Implemented\n",
        "\n",
        "1. **🔌 Neo4j Connection**\n",
        "   - Connected to a Neo4j AuraDB instance with :TextChunk nodes created from **multiple companies’** latest 10-K filings (e.g., AAPL, JPM, XOM).\n",
        "   -\tEach node contains structured metadata: company, year, section, seq, source, cik, and cusip6.\n",
        "\n",
        "2. **🧱 Node & Relationship Construction (Batch Mode)**\n",
        "   - Extracted and chunked 10-K sections (item1, item1a, item7, item7a) using RecursiveCharacterTextSplitter.\n",
        "   - Created :TextChunk nodes and :Entity nodes (e.g., organizations, products, risks).\n",
        "   - Established relationships:\n",
        "     - [:MENTIONS] between chunks and entities (from NER or Phrase Matching)\n",
        "     - [:CO_OCCURS_WITH] between co-mentioned entities (limited to N ≤ 5 per chunk to control explosion)\n",
        "   - Added company metadata to entity-level relationships for filtered subgraph analysis.\n",
        "\n",
        "3. **📐 Embedding & Vector Index**\n",
        "   - Used OpenAI embeddings to compute semantic vectors for all TextChunk.text.\n",
        "   - Stored vectors as textEmbedding property and created a Neo4j vector index: form_10k_chunks.\n",
        "\n",
        "4. **🔍 Semantic Retrieval**\n",
        "   - Implemented neo4j_vector_search() to:\n",
        "    - Embed a user query\n",
        "    - Search top-k nearest chunks from the vector index\n",
        "    - Return relevant paragraph texts for grounding answers.\n",
        "\n",
        "5. **🤖 RAG Integration (LangChain)**\n",
        "   -\tCreated Neo4jVector retriever with TextChunk nodes.\n",
        "   - Connected OpenAI’s ChatGPT model using LangChain’s RetrievalQAWithSourcesChain.\n",
        "   - Implemented prettychain() to ask complex business questions grounded in retrieved SEC filing text.\n",
        "\n",
        "---\n",
        "\n",
        "### 💬 Example Multi-Company Questions Supported\n",
        "\n",
        "- \"What is Netflix's primary business?\"\n",
        "- \"Where is Apple headquartered?\"\n",
        "- \"What are the top risks mentioned in Johnson & Johnson's 10-K?\"\n",
        "- \"Where are the primary suppliers for Tesla?\"\n",
        "- \"How is ExxonMobil addressing climate change and the energy transition?\"\n",
        "\n",
        "---\n",
        "\n",
        "### ✅ Outcome\n",
        "This stage delivered a **multi-company GraphRAG pipeline**, which:\n",
        "- Ingests multiple firms' 10-K filings  \n",
        "- Extracts paragraph- and entity-level structure  \n",
        "- Computes and stores semantic embeddings  \n",
        "- Enables contextual retrieval and LLM-based question answering\n",
        "\n",
        "> It lays the groundwork for scalable, explainable financial document QA systems.\n"
      ],
      "metadata": {
        "id": "DgAdzwRpvEor"
      }
    }
  ]
}

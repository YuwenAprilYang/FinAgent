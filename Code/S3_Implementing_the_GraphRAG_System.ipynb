{
  "nbformat": 4,
  "nbformat_minor": 0,
  "metadata": {
    "colab": {
      "provenance": [],
      "authorship_tag": "ABX9TyPgqIuC5mT5eMgp3GIVp1sP",
      "include_colab_link": true
    },
    "kernelspec": {
      "name": "python3",
      "display_name": "Python 3"
    },
    "language_info": {
      "name": "python"
    }
  },
  "cells": [
    {
      "cell_type": "markdown",
      "metadata": {
        "id": "view-in-github",
        "colab_type": "text"
      },
      "source": [
        "<a href=\"https://colab.research.google.com/github/YuwenAprilYang/FinAgent/blob/main/S3_Implementing_the_GraphRAG_System.ipynb\" target=\"_parent\"><img src=\"https://colab.research.google.com/assets/colab-badge.svg\" alt=\"Open In Colab\"/></a>"
      ]
    },
    {
      "cell_type": "markdown",
      "source": [
        "# Step 1: Install Dependencies"
      ],
      "metadata": {
        "id": "hW-qAAjqqQYc"
      }
    },
    {
      "cell_type": "code",
      "execution_count": 1,
      "metadata": {
        "colab": {
          "base_uri": "https://localhost:8080/"
        },
        "id": "EyCUxcwEe8HF",
        "outputId": "31aa3a76-1ab2-43d7-c9a1-71ada21608bf"
      },
      "outputs": [
        {
          "output_type": "stream",
          "name": "stdout",
          "text": [
            "Collecting python-dotenv\n",
            "  Downloading python_dotenv-1.1.0-py3-none-any.whl.metadata (24 kB)\n",
            "Collecting neo4j\n",
            "  Downloading neo4j-5.28.1-py3-none-any.whl.metadata (5.9 kB)\n",
            "Requirement already satisfied: openai in /usr/local/lib/python3.11/dist-packages (1.78.1)\n",
            "Requirement already satisfied: tiktoken in /usr/local/lib/python3.11/dist-packages (0.9.0)\n",
            "Requirement already satisfied: langchain in /usr/local/lib/python3.11/dist-packages (0.3.25)\n",
            "Collecting langchain-openai\n",
            "  Downloading langchain_openai-0.3.17-py3-none-any.whl.metadata (2.3 kB)\n",
            "Collecting langchain-community\n",
            "  Downloading langchain_community-0.3.24-py3-none-any.whl.metadata (2.5 kB)\n",
            "Requirement already satisfied: pytz in /usr/local/lib/python3.11/dist-packages (from neo4j) (2025.2)\n",
            "Requirement already satisfied: anyio<5,>=3.5.0 in /usr/local/lib/python3.11/dist-packages (from openai) (4.9.0)\n",
            "Requirement already satisfied: distro<2,>=1.7.0 in /usr/local/lib/python3.11/dist-packages (from openai) (1.9.0)\n",
            "Requirement already satisfied: httpx<1,>=0.23.0 in /usr/local/lib/python3.11/dist-packages (from openai) (0.28.1)\n",
            "Requirement already satisfied: jiter<1,>=0.4.0 in /usr/local/lib/python3.11/dist-packages (from openai) (0.9.0)\n",
            "Requirement already satisfied: pydantic<3,>=1.9.0 in /usr/local/lib/python3.11/dist-packages (from openai) (2.11.4)\n",
            "Requirement already satisfied: sniffio in /usr/local/lib/python3.11/dist-packages (from openai) (1.3.1)\n",
            "Requirement already satisfied: tqdm>4 in /usr/local/lib/python3.11/dist-packages (from openai) (4.67.1)\n",
            "Requirement already satisfied: typing-extensions<5,>=4.11 in /usr/local/lib/python3.11/dist-packages (from openai) (4.13.2)\n",
            "Requirement already satisfied: regex>=2022.1.18 in /usr/local/lib/python3.11/dist-packages (from tiktoken) (2024.11.6)\n",
            "Requirement already satisfied: requests>=2.26.0 in /usr/local/lib/python3.11/dist-packages (from tiktoken) (2.32.3)\n",
            "Requirement already satisfied: langchain-core<1.0.0,>=0.3.58 in /usr/local/lib/python3.11/dist-packages (from langchain) (0.3.59)\n",
            "Requirement already satisfied: langchain-text-splitters<1.0.0,>=0.3.8 in /usr/local/lib/python3.11/dist-packages (from langchain) (0.3.8)\n",
            "Requirement already satisfied: langsmith<0.4,>=0.1.17 in /usr/local/lib/python3.11/dist-packages (from langchain) (0.3.42)\n",
            "Requirement already satisfied: SQLAlchemy<3,>=1.4 in /usr/local/lib/python3.11/dist-packages (from langchain) (2.0.40)\n",
            "Requirement already satisfied: PyYAML>=5.3 in /usr/local/lib/python3.11/dist-packages (from langchain) (6.0.2)\n",
            "Requirement already satisfied: aiohttp<4.0.0,>=3.8.3 in /usr/local/lib/python3.11/dist-packages (from langchain-community) (3.11.15)\n",
            "Requirement already satisfied: tenacity!=8.4.0,<10,>=8.1.0 in /usr/local/lib/python3.11/dist-packages (from langchain-community) (9.1.2)\n",
            "Collecting dataclasses-json<0.7,>=0.5.7 (from langchain-community)\n",
            "  Downloading dataclasses_json-0.6.7-py3-none-any.whl.metadata (25 kB)\n",
            "Collecting pydantic-settings<3.0.0,>=2.4.0 (from langchain-community)\n",
            "  Downloading pydantic_settings-2.9.1-py3-none-any.whl.metadata (3.8 kB)\n",
            "Collecting httpx-sse<1.0.0,>=0.4.0 (from langchain-community)\n",
            "  Downloading httpx_sse-0.4.0-py3-none-any.whl.metadata (9.0 kB)\n",
            "Requirement already satisfied: numpy>=1.26.2 in /usr/local/lib/python3.11/dist-packages (from langchain-community) (2.0.2)\n",
            "Requirement already satisfied: aiohappyeyeballs>=2.3.0 in /usr/local/lib/python3.11/dist-packages (from aiohttp<4.0.0,>=3.8.3->langchain-community) (2.6.1)\n",
            "Requirement already satisfied: aiosignal>=1.1.2 in /usr/local/lib/python3.11/dist-packages (from aiohttp<4.0.0,>=3.8.3->langchain-community) (1.3.2)\n",
            "Requirement already satisfied: attrs>=17.3.0 in /usr/local/lib/python3.11/dist-packages (from aiohttp<4.0.0,>=3.8.3->langchain-community) (25.3.0)\n",
            "Requirement already satisfied: frozenlist>=1.1.1 in /usr/local/lib/python3.11/dist-packages (from aiohttp<4.0.0,>=3.8.3->langchain-community) (1.6.0)\n",
            "Requirement already satisfied: multidict<7.0,>=4.5 in /usr/local/lib/python3.11/dist-packages (from aiohttp<4.0.0,>=3.8.3->langchain-community) (6.4.3)\n",
            "Requirement already satisfied: propcache>=0.2.0 in /usr/local/lib/python3.11/dist-packages (from aiohttp<4.0.0,>=3.8.3->langchain-community) (0.3.1)\n",
            "Requirement already satisfied: yarl<2.0,>=1.17.0 in /usr/local/lib/python3.11/dist-packages (from aiohttp<4.0.0,>=3.8.3->langchain-community) (1.20.0)\n",
            "Requirement already satisfied: idna>=2.8 in /usr/local/lib/python3.11/dist-packages (from anyio<5,>=3.5.0->openai) (3.10)\n",
            "Collecting marshmallow<4.0.0,>=3.18.0 (from dataclasses-json<0.7,>=0.5.7->langchain-community)\n",
            "  Downloading marshmallow-3.26.1-py3-none-any.whl.metadata (7.3 kB)\n",
            "Collecting typing-inspect<1,>=0.4.0 (from dataclasses-json<0.7,>=0.5.7->langchain-community)\n",
            "  Downloading typing_inspect-0.9.0-py3-none-any.whl.metadata (1.5 kB)\n",
            "Requirement already satisfied: certifi in /usr/local/lib/python3.11/dist-packages (from httpx<1,>=0.23.0->openai) (2025.4.26)\n",
            "Requirement already satisfied: httpcore==1.* in /usr/local/lib/python3.11/dist-packages (from httpx<1,>=0.23.0->openai) (1.0.9)\n",
            "Requirement already satisfied: h11>=0.16 in /usr/local/lib/python3.11/dist-packages (from httpcore==1.*->httpx<1,>=0.23.0->openai) (0.16.0)\n",
            "Requirement already satisfied: jsonpatch<2.0,>=1.33 in /usr/local/lib/python3.11/dist-packages (from langchain-core<1.0.0,>=0.3.58->langchain) (1.33)\n",
            "Requirement already satisfied: packaging<25,>=23.2 in /usr/local/lib/python3.11/dist-packages (from langchain-core<1.0.0,>=0.3.58->langchain) (24.2)\n",
            "Requirement already satisfied: orjson<4.0.0,>=3.9.14 in /usr/local/lib/python3.11/dist-packages (from langsmith<0.4,>=0.1.17->langchain) (3.10.18)\n",
            "Requirement already satisfied: requests-toolbelt<2.0.0,>=1.0.0 in /usr/local/lib/python3.11/dist-packages (from langsmith<0.4,>=0.1.17->langchain) (1.0.0)\n",
            "Requirement already satisfied: zstandard<0.24.0,>=0.23.0 in /usr/local/lib/python3.11/dist-packages (from langsmith<0.4,>=0.1.17->langchain) (0.23.0)\n",
            "Requirement already satisfied: annotated-types>=0.6.0 in /usr/local/lib/python3.11/dist-packages (from pydantic<3,>=1.9.0->openai) (0.7.0)\n",
            "Requirement already satisfied: pydantic-core==2.33.2 in /usr/local/lib/python3.11/dist-packages (from pydantic<3,>=1.9.0->openai) (2.33.2)\n",
            "Requirement already satisfied: typing-inspection>=0.4.0 in /usr/local/lib/python3.11/dist-packages (from pydantic<3,>=1.9.0->openai) (0.4.0)\n",
            "Requirement already satisfied: charset-normalizer<4,>=2 in /usr/local/lib/python3.11/dist-packages (from requests>=2.26.0->tiktoken) (3.4.2)\n",
            "Requirement already satisfied: urllib3<3,>=1.21.1 in /usr/local/lib/python3.11/dist-packages (from requests>=2.26.0->tiktoken) (2.4.0)\n",
            "Requirement already satisfied: greenlet>=1 in /usr/local/lib/python3.11/dist-packages (from SQLAlchemy<3,>=1.4->langchain) (3.2.2)\n",
            "Requirement already satisfied: jsonpointer>=1.9 in /usr/local/lib/python3.11/dist-packages (from jsonpatch<2.0,>=1.33->langchain-core<1.0.0,>=0.3.58->langchain) (3.0.0)\n",
            "Collecting mypy-extensions>=0.3.0 (from typing-inspect<1,>=0.4.0->dataclasses-json<0.7,>=0.5.7->langchain-community)\n",
            "  Downloading mypy_extensions-1.1.0-py3-none-any.whl.metadata (1.1 kB)\n",
            "Downloading python_dotenv-1.1.0-py3-none-any.whl (20 kB)\n",
            "Downloading neo4j-5.28.1-py3-none-any.whl (312 kB)\n",
            "\u001b[2K   \u001b[90m━━━━━━━━━━━━━━━━━━━━━━━━━━━━━━━━━━━━━━━━\u001b[0m \u001b[32m312.3/312.3 kB\u001b[0m \u001b[31m8.0 MB/s\u001b[0m eta \u001b[36m0:00:00\u001b[0m\n",
            "\u001b[?25hDownloading langchain_openai-0.3.17-py3-none-any.whl (62 kB)\n",
            "\u001b[2K   \u001b[90m━━━━━━━━━━━━━━━━━━━━━━━━━━━━━━━━━━━━━━━━\u001b[0m \u001b[32m62.9/62.9 kB\u001b[0m \u001b[31m1.4 MB/s\u001b[0m eta \u001b[36m0:00:00\u001b[0m\n",
            "\u001b[?25hDownloading langchain_community-0.3.24-py3-none-any.whl (2.5 MB)\n",
            "\u001b[2K   \u001b[90m━━━━━━━━━━━━━━━━━━━━━━━━━━━━━━━━━━━━━━━━\u001b[0m \u001b[32m2.5/2.5 MB\u001b[0m \u001b[31m35.1 MB/s\u001b[0m eta \u001b[36m0:00:00\u001b[0m\n",
            "\u001b[?25hDownloading dataclasses_json-0.6.7-py3-none-any.whl (28 kB)\n",
            "Downloading httpx_sse-0.4.0-py3-none-any.whl (7.8 kB)\n",
            "Downloading pydantic_settings-2.9.1-py3-none-any.whl (44 kB)\n",
            "\u001b[2K   \u001b[90m━━━━━━━━━━━━━━━━━━━━━━━━━━━━━━━━━━━━━━━━\u001b[0m \u001b[32m44.4/44.4 kB\u001b[0m \u001b[31m2.0 MB/s\u001b[0m eta \u001b[36m0:00:00\u001b[0m\n",
            "\u001b[?25hDownloading marshmallow-3.26.1-py3-none-any.whl (50 kB)\n",
            "\u001b[2K   \u001b[90m━━━━━━━━━━━━━━━━━━━━━━━━━━━━━━━━━━━━━━━━\u001b[0m \u001b[32m50.9/50.9 kB\u001b[0m \u001b[31m1.8 MB/s\u001b[0m eta \u001b[36m0:00:00\u001b[0m\n",
            "\u001b[?25hDownloading typing_inspect-0.9.0-py3-none-any.whl (8.8 kB)\n",
            "Downloading mypy_extensions-1.1.0-py3-none-any.whl (5.0 kB)\n",
            "Installing collected packages: python-dotenv, neo4j, mypy-extensions, marshmallow, httpx-sse, typing-inspect, pydantic-settings, dataclasses-json, langchain-openai, langchain-community\n",
            "Successfully installed dataclasses-json-0.6.7 httpx-sse-0.4.0 langchain-community-0.3.24 langchain-openai-0.3.17 marshmallow-3.26.1 mypy-extensions-1.1.0 neo4j-5.28.1 pydantic-settings-2.9.1 python-dotenv-1.1.0 typing-inspect-0.9.0\n"
          ]
        }
      ],
      "source": [
        "!pip install python-dotenv neo4j openai tiktoken langchain langchain-openai langchain-community"
      ]
    },
    {
      "cell_type": "markdown",
      "source": [
        "# Step 2: Load Environment Variables"
      ],
      "metadata": {
        "id": "f5TwOnIurIFP"
      }
    },
    {
      "cell_type": "code",
      "source": [
        "from google.colab import drive\n",
        "drive.mount('/content/drive')\n",
        "\n",
        "from dotenv import load_dotenv\n",
        "import os\n",
        "\n",
        "env_path = '/content/drive/MyDrive/rag.env'\n",
        "load_dotenv(env_path)\n",
        "\n",
        "NEO4J_URI = os.getenv(\"NEO4J_URI\")\n",
        "NEO4J_USERNAME = os.getenv(\"NEO4J_USERNAME\")\n",
        "NEO4J_PASSWORD = os.getenv(\"NEO4J_PASSWORD\")\n",
        "NEO4J_DATABASE = os.getenv(\"NEO4J_DATABASE\") or \"neo4j\"\n",
        "OPENAI_API_KEY = os.getenv(\"OPENAI_API_KEY\")\n",
        "OPENAI_ENDPOINT = os.getenv(\"OPENAI_BASE_URL\") + \"/embeddings\"\n",
        "\n",
        "# Constants\n",
        "VECTOR_INDEX_NAME = 'form_10k_chunks'\n",
        "VECTOR_NODE_LABEL = 'Chunk'\n",
        "VECTOR_SOURCE_PROPERTY = 'text'\n",
        "VECTOR_EMBEDDING_PROPERTY = 'textEmbedding'"
      ],
      "metadata": {
        "colab": {
          "base_uri": "https://localhost:8080/"
        },
        "id": "EiAuanJvqfNw",
        "outputId": "8c5bc102-bb2c-48d6-fc4c-ae3d06df5500"
      },
      "execution_count": 2,
      "outputs": [
        {
          "output_type": "stream",
          "name": "stdout",
          "text": [
            "Mounted at /content/drive\n"
          ]
        }
      ]
    },
    {
      "cell_type": "markdown",
      "source": [
        "# Step 3: Connect to Neo4j"
      ],
      "metadata": {
        "id": "DaSmpPLirh-M"
      }
    },
    {
      "cell_type": "code",
      "source": [
        "from langchain_community.graphs import Neo4jGraph\n",
        "\n",
        "kg = Neo4jGraph(\n",
        "    url=NEO4J_URI,\n",
        "    username=NEO4J_USERNAME,\n",
        "    password=NEO4J_PASSWORD,\n",
        "    database=NEO4J_DATABASE\n",
        ")\n",
        "\n",
        "# Check how many chunks exist\n",
        "kg.query(\"MATCH (c:Chunk) RETURN count(c) AS count\")"
      ],
      "metadata": {
        "colab": {
          "base_uri": "https://localhost:8080/"
        },
        "id": "EArFm1YLrkjO",
        "outputId": "9d5ea650-5c47-4f76-def9-9719ebf7c4ea"
      },
      "execution_count": 4,
      "outputs": [
        {
          "output_type": "execute_result",
          "data": {
            "text/plain": [
              "[{'count': 40}]"
            ]
          },
          "metadata": {},
          "execution_count": 4
        }
      ]
    },
    {
      "cell_type": "markdown",
      "source": [
        "# Step 4: Compute Embeddings"
      ],
      "metadata": {
        "id": "mqaJ7B_nrvxR"
      }
    },
    {
      "cell_type": "code",
      "source": [
        "kg.query(\"\"\"\n",
        "MATCH (chunk:Chunk) WHERE chunk.textEmbedding IS NULL\n",
        "WITH chunk, genai.vector.encode(\n",
        "  chunk.text,\n",
        "  \"OpenAI\",\n",
        "  {\n",
        "    token: $openAiApiKey,\n",
        "    endpoint: $openAiEndpoint\n",
        "  }) AS vector\n",
        "CALL db.create.setNodeVectorProperty(chunk, \"textEmbedding\", vector)\n",
        "\"\"\", params={\n",
        "    \"openAiApiKey\": OPENAI_API_KEY,\n",
        "    \"openAiEndpoint\": OPENAI_ENDPOINT\n",
        "})"
      ],
      "metadata": {
        "colab": {
          "base_uri": "https://localhost:8080/"
        },
        "id": "SavMI19trsyB",
        "outputId": "32eb84d6-e089-4651-f002-234cf1586e93"
      },
      "execution_count": 5,
      "outputs": [
        {
          "output_type": "execute_result",
          "data": {
            "text/plain": [
              "[]"
            ]
          },
          "metadata": {},
          "execution_count": 5
        }
      ]
    },
    {
      "cell_type": "markdown",
      "source": [
        "# Step 5: Search Function to Preview Similar Chunks"
      ],
      "metadata": {
        "id": "pcu4eEpcr1Ik"
      }
    },
    {
      "cell_type": "code",
      "source": [
        "def neo4j_vector_search(question):\n",
        "    query = \"\"\"\n",
        "    WITH genai.vector.encode(\n",
        "      $question,\n",
        "      \"OpenAI\",\n",
        "      {\n",
        "        token: $openAiApiKey,\n",
        "        endpoint: $openAiEndpoint\n",
        "      }) AS question_embedding\n",
        "    CALL db.index.vector.queryNodes($index_name, $top_k, question_embedding) YIELD node, score\n",
        "    RETURN score, node.text AS text\n",
        "    \"\"\"\n",
        "    return kg.query(query, params={\n",
        "        'question': question,\n",
        "        'openAiApiKey': OPENAI_API_KEY,\n",
        "        'openAiEndpoint': OPENAI_ENDPOINT,\n",
        "        'index_name': VECTOR_INDEX_NAME,\n",
        "        'top_k': 5\n",
        "    })\n",
        "\n",
        "# Example search\n",
        "for r in neo4j_vector_search(\"What is Apple's business model?\"):\n",
        "    print(r[\"text\"])"
      ],
      "metadata": {
        "colab": {
          "base_uri": "https://localhost:8080/"
        },
        "id": "bqkxNgWar3f8",
        "outputId": "48dd2269-f1e2-4803-b26b-ec3cc5153c7c"
      },
      "execution_count": 6,
      "outputs": [
        {
          "output_type": "stream",
          "name": "stdout",
          "text": [
            "Item 1. Business Company Background The Company designs, manufactures and markets smartphones, personal computers, tablets, wearables and accessories, and sells a variety of related services. The Company’s fiscal year is the 52- or 53-week period that ends on the last Saturday of September. Products iPhone iPhone ® is the Company’s line of smartphones based on its iOS operating system. The iPhone line includes iPhone 16 Pro, iPhone 16, iPhone 15, iPhone 14 and iPhone SE ® . Mac Mac ® is the Company’s line of personal computers based on its macOS ® operating system. The Mac line includes laptops MacBook Air ® and MacBook Pro ® , as well as desktops iMac ® , Mac mini ® , Mac Studio ® and Mac Pro ® . iPad iPad ® is the Company’s line of multipurpose tablets based on its iPadOS ® operating system. The iPad line includes iPad Pro ® , iPad Air ® , iPad and iPad mini ® . Wearables, Home and Accessories Wearables includes smartwatches, wireless headphones and spatial computers. The Company’s line of smartwatches, based on its watchOS ® operating system, includes Apple Watch Ultra ® 2, Apple Watch ® Series 10 and Apple Watch SE ® . The Company’s line of wireless headphones includes AirPods ® , AirPods Pro ® , AirPods Max ® and Beats ® products. Apple Vision Pro™ is the Company’s first spatial computer based on its visionOS™ operating system. Home includes Apple TV ® , the Company’s media streaming and gaming device based on its tvOS ® operating system, and HomePod ® and HomePod mini ® , high-fidelity wireless smart speakers. Accessories includes Apple-branded and third-party accessories. Apple Inc. | 2024 Form 10-K | 1 Services Advertising The Company’s advertising services include third-party licensing arrangements and the Company’s own advertising platforms. AppleCare The Company offers a portfolio of fee-based service and support products under the AppleCare ® brand. The offerings provide priority access to Apple technical support, access to the global Apple authorized\n",
            "offers a portfolio of fee-based service and support products under the AppleCare ® brand. The offerings provide priority access to Apple technical support, access to the global Apple authorized service network for repair and replacement services, and in many cases additional coverage for instances of accidental damage or theft and loss, depending on the country and type of product. Cloud Services The Company’s cloud services store and keep customers’ content up-to-date and available across multiple Apple devices and Windows personal computers. Digital Content The Company operates various platforms, including the App Store ® , that allow customers to discover and download applications and digital content, such as books, music, video, games and podcasts. The Company also offers digital content through subscription-based services, including Apple Arcade ® , a game subscription service; Apple Fitness+ SM , a personalized fitness service; Apple Music ® , which offers users a curated listening experience with on-demand radio stations; Apple News+ ® , a subscription news and magazine service; and Apple TV+ ® , which offers exclusive original content and live sports. Payment Services The Company offers payment services, including Apple Card ® , a co-branded credit card, and Apple Pay ® , a cashless payment service. Segments The Company manages its business primarily on a geographic basis. The Company’s reportable segments consist of the Americas, Europe, Greater China, Japan and Rest of Asia Pacific. Americas includes both North and South America. Europe includes European countries, as well as India, the Middle East and Africa. Greater China includes China mainland, Hong Kong and Taiwan. Rest of Asia Pacific includes Australia and those Asian countries not included in the Company’s other reportable segments. Although the reportable segments provide similar hardware and software products and similar services, each one is managed separately to better align with the location\n",
            "been able to obtain such licenses on commercially reasonable terms in the past, there is no guarantee that such licenses could be obtained in the future on reasonable terms or at all. Apple Inc. | 2024 Form 10-K | 3 Business Seasonality and Product Introductions The Company has historically experienced higher net sales in its first quarter compared to other quarters in its fiscal year due in part to seasonal holiday demand. Additionally, new product and service introductions can significantly impact net sales, cost of sales and operating expenses. The timing of product introductions can also impact the Company’s net sales to its indirect distribution channels as these channels are filled with new inventory following a product launch, and channel inventory of an older product often declines as the launch of a newer product approaches. Net sales can also be affected when consumers and distributors anticipate a product introduction. Human Capital The Company believes that its people play an important role in its success, and strives to attract, develop and retain the best talent. The Company works to create an inclusive, safe and supportive environment for all of its team members, so that its people can do the best work of their lives. As of September 28, 2024, the Company had approximately 164,000 full-time equivalent employees. Compensation and Benefits The Company believes that compensation should be competitive and equitable, and should enable employees to share in the Company’s success. The Company recognizes its people are most likely to thrive when they have the resources to meet their needs and the time and support to succeed in their professional and personal lives. In support of this, the Company offers a wide variety of benefits for employees around the world, including health, wellness and time away. Growth and Development The Company invests in resources to help its people develop and achieve their career goals. The Company offers programs through Apple\n",
            "other reportable segments. Although the reportable segments provide similar hardware and software products and similar services, each one is managed separately to better align with the location of the Company’s customers and distribution partners and the unique market dynamics of each geographic region. Markets and Distribution The Company’s customers are primarily in the consumer, small and mid-sized business, education, enterprise and government markets. The Company sells its products and resells third-party products in most of its major markets directly to customers through its retail and online stores and its direct sales force. The Company also employs a variety of indirect distribution channels, such as third-party cellular network carriers, wholesalers, retailers and resellers. During 2024, the Company’s net sales through its direct and indirect distribution channels accounted for 38% and 62%, respectively, of total net sales. Competition The markets for the Company’s products and services are highly competitive, and are characterized by aggressive price competition and resulting downward pressure on gross margins, frequent introduction of new products and services, short product life cycles, evolving industry standards, continual improvement in product price and performance characteristics, rapid adoption of technological advancements by competitors, and price sensitivity on the part of consumers and businesses. Many of the Company’s competitors seek to compete primarily through aggressive pricing and very low cost structures, and by imitating the Company’s products and infringing on its intellectual property. Apple Inc. | 2024 Form 10-K | 2 The Company’s ability to compete successfully depends heavily on ensuring the continuing and timely introduction of innovative new products, services and technologies to the marketplace. The Company designs and develops nearly the entire solution for its products, including the hardware, operating system, numerous\n",
            "Form 10-K | 22 Products and Services Performance The following table shows net sales by category for 2024, 2023 and 2022 (dollars in millions): 2024 Change 2023 Change 2022 iPhone $ 201,183 — % $ 200,583 (2) % $ 205,489 Mac 29,984 2 % 29,357 (27) % 40,177 iPad 26,694 (6) % 28,300 (3) % 29,292 Wearables, Home and Accessories 37,005 (7) % 39,845 (3) % 41,241 Services (1) 96,169 13 % 85,200 9 % 78,129 Total net sales $ 391,035 2 % $ 383,285 (3) % $ 394,328 (1) Services net sales include amortization of the deferred value of services bundled in the sales price of certain products. iPhone iPhone net sales were relatively flat during 2024 compared to 2023. Mac Mac net sales increased during 2024 compared to 2023 due primarily to higher net sales of laptops. iPad iPad net sales decreased during 2024 compared to 2023 due primarily to lower net sales of iPad Pro and the entry-level iPad models, partially offset by higher net sales of iPad Air. Wearables, Home and Accessories Wearables, Home and Accessories net sales decreased during 2024 compared to 2023 due primarily to lower net sales of Wearables and Accessories. Services Services net sales increased during 2024 compared to 2023 due primarily to higher net sales from advertising, the App Store ® and cloud services. Apple Inc. | 2024 Form 10-K | 23 Gross Margin Products and Services gross margin and gross margin percentage for 2024, 2023 and 2022 were as follows (dollars in millions): 2024 2023 2022 Gross margin: Products $ 109,633 $ 108,803 $ 114,728 Services 71,050 60,345 56,054 Total gross margin $ 180,683 $ 169,148 $ 170,782 Gross margin percentage: Products 37.2 % 36.5 % 36.3 % Services 73.9 % 70.8 % 71.7 % Total gross margin percentage 46.2 % 44.1 % 43.3 % Products Gross Margin Products gross margin and Products gross margin percentage increased during 2024 compared to 2023 due to cost savings, partially offset by a different Products mix and the weakness in foreign currencies relative to the U.S. dollar. Services\n"
          ]
        }
      ]
    },
    {
      "cell_type": "markdown",
      "source": [
        "# Step 6: Setup LangChain GraphRAG"
      ],
      "metadata": {
        "id": "nxftnBm9r9B-"
      }
    },
    {
      "cell_type": "code",
      "source": [
        "from langchain_openai import OpenAIEmbeddings, ChatOpenAI\n",
        "from langchain_community.vectorstores import Neo4jVector\n",
        "from langchain.chains import RetrievalQAWithSourcesChain\n",
        "import textwrap\n",
        "\n",
        "# Create a vector store from the graph\n",
        "vector_store = Neo4jVector.from_existing_graph(\n",
        "    embedding=OpenAIEmbeddings(openai_api_key=OPENAI_API_KEY),\n",
        "    url=NEO4J_URI,\n",
        "    username=NEO4J_USERNAME,\n",
        "    password=NEO4J_PASSWORD,\n",
        "    index_name=VECTOR_INDEX_NAME,\n",
        "    node_label=VECTOR_NODE_LABEL,\n",
        "    text_node_properties=[VECTOR_SOURCE_PROPERTY],\n",
        "    embedding_node_property=VECTOR_EMBEDDING_PROPERTY,\n",
        ")\n",
        "\n",
        "retriever = vector_store.as_retriever()\n",
        "\n",
        "# Setup RAG chain\n",
        "qa_chain = RetrievalQAWithSourcesChain.from_chain_type(\n",
        "    llm=ChatOpenAI(temperature=0, openai_api_key=OPENAI_API_KEY),\n",
        "    chain_type=\"stuff\",\n",
        "    retriever=retriever\n",
        ")"
      ],
      "metadata": {
        "id": "vlNdvNuYr_PV"
      },
      "execution_count": 7,
      "outputs": []
    },
    {
      "cell_type": "markdown",
      "source": [
        "# Step 7: Ask Questions with LLM"
      ],
      "metadata": {
        "id": "bGNi0hyFsKlQ"
      }
    },
    {
      "cell_type": "code",
      "source": [
        "def prettychain(question: str):\n",
        "    response = qa_chain({\"question\": question}, return_only_outputs=True)\n",
        "    print(\"\\nAnswer:\\n\" + textwrap.fill(response[\"answer\"], width=80))"
      ],
      "metadata": {
        "id": "Z2hrlVF7sIve"
      },
      "execution_count": 8,
      "outputs": []
    },
    {
      "cell_type": "code",
      "source": [
        "# Ask real questions\n",
        "prettychain(\"What is Apple's primary business?\")"
      ],
      "metadata": {
        "colab": {
          "base_uri": "https://localhost:8080/"
        },
        "id": "7cya7oilsPdJ",
        "outputId": "32823817-b1df-4071-f1d5-622a31d05d2b"
      },
      "execution_count": 11,
      "outputs": [
        {
          "output_type": "stream",
          "name": "stdout",
          "text": [
            "\n",
            "Answer:\n",
            "Apple's primary business is designing, manufacturing, and marketing smartphones,\n",
            "personal computers, tablets, wearables, and accessories, as well as selling\n",
            "related services.\n"
          ]
        }
      ]
    },
    {
      "cell_type": "code",
      "source": [
        "prettychain(\"Where is Apple headquartered?\")"
      ],
      "metadata": {
        "colab": {
          "base_uri": "https://localhost:8080/"
        },
        "id": "QUkS2hm6s0-K",
        "outputId": "1151126f-1736-4112-afe3-132d43a7fcb5"
      },
      "execution_count": 12,
      "outputs": [
        {
          "output_type": "stream",
          "name": "stdout",
          "text": [
            "\n",
            "Answer:\n",
            "Apple is headquartered in Cupertino, California, United States.\n"
          ]
        }
      ]
    },
    {
      "cell_type": "code",
      "source": [
        "prettychain(\"What are the top risks mentioned in Apple's 10-K?\")"
      ],
      "metadata": {
        "colab": {
          "base_uri": "https://localhost:8080/"
        },
        "id": "N8ntm1LZs2PL",
        "outputId": "9a260f4f-2593-4b22-a1c5-236cbc9ab8b9"
      },
      "execution_count": 13,
      "outputs": [
        {
          "output_type": "stream",
          "name": "stdout",
          "text": [
            "\n",
            "Answer:\n",
            "The top risks mentioned in Apple's 10-K include industrial accidents at\n",
            "suppliers, public health issues like pandemics, global economic conditions, and\n",
            "the need to continually improve products and services to remain competitive.\n"
          ]
        }
      ]
    },
    {
      "cell_type": "code",
      "source": [
        "prettychain(\"Where are the primary suppliers for Apple?\")"
      ],
      "metadata": {
        "colab": {
          "base_uri": "https://localhost:8080/"
        },
        "id": "AQ7F65lhs8Ko",
        "outputId": "71d512d9-fb8b-4878-af4d-950c247e68fc"
      },
      "execution_count": 14,
      "outputs": [
        {
          "output_type": "stream",
          "name": "stdout",
          "text": [
            "\n",
            "Answer:\n",
            "The primary suppliers for Apple are located primarily in China mainland, India,\n",
            "Japan, South Korea, Taiwan, and Vietnam.\n"
          ]
        }
      ]
    },
    {
      "cell_type": "code",
      "source": [
        "prettychain(\"Where are the top 5 ROI product lines for Apple\")"
      ],
      "metadata": {
        "colab": {
          "base_uri": "https://localhost:8080/"
        },
        "id": "FCQ0flsRs-Cc",
        "outputId": "a8a412c7-67e8-4e50-cbea-4e151a9a6b8b"
      },
      "execution_count": 15,
      "outputs": [
        {
          "output_type": "stream",
          "name": "stdout",
          "text": [
            "\n",
            "Answer:\n",
            "The top 5 ROI product lines for Apple are iPhone, Mac, iPad, Wearables, Home and\n",
            "Accessories, and Services.\n"
          ]
        }
      ]
    },
    {
      "cell_type": "markdown",
      "source": [
        "## 📊 Stage 3: GraphRAG System Implementation Summary\n",
        "\n",
        "### 🎯 Objective\n",
        "The goal of Stage 3 is to build a prototype system that integrates graph-based semantic retrieval with a large language model (LLM) to answer user questions using the structured 10-K knowledge graph created in Stage 2.\n",
        "\n",
        "---\n",
        "\n",
        "### ✅ Key Components and What Was Implemented\n",
        "\n",
        "1. **🔌 Neo4j Connection**\n",
        "   - Connected to the Neo4j AuraDB graph that contains `:Chunk` nodes from 10-K filings.\n",
        "   - Verified that all chunks were uploaded in Stage 2 and accessible via Cypher queries.\n",
        "\n",
        "2. **🧠 Embedding & Vector Index**\n",
        "   - Used `OpenAI` to compute vector embeddings of each `Chunk.text`.\n",
        "   - Stored the embeddings in Neo4j under the `textEmbedding` property.\n",
        "   - Created a vector index (`form_10k_chunks`) on `:Chunk(textEmbedding)` for fast semantic search.\n",
        "\n",
        "3. **🔍 Semantic Retrieval**\n",
        "   - Built a retrieval function using `Neo4jVector` to query top-k relevant chunks based on a user question.\n",
        "   - This enables semantic search — retrieving text that is *meaningfully similar*, not just keyword-matched.\n",
        "\n",
        "4. **🤖 LLM Integration with LangChain**\n",
        "   - Connected OpenAI's GPT model via `ChatOpenAI` through the LangChain framework.\n",
        "   - Used `RetrievalQAWithSourcesChain` to create a complete retrieval-augmented generation (RAG) pipeline.\n",
        "\n",
        "5. **🧪 Query Pipeline (Prototype)**\n",
        "   - Defined a `prettychain()` function to:\n",
        "     - Accept a user question\n",
        "     - Retrieve relevant graph chunks\n",
        "     - Generate and return a clear, context-aware answer\n",
        "   - This fulfills the end-to-end GraphRAG architecture.\n",
        "\n",
        "---\n",
        "\n",
        "### 💬 Example Questions Supported by the System\n",
        "\n",
        "- \"What is Apple's primary business?\"\n",
        "- \"Where is Apple headquartered?\"\n",
        "- \"What are the top risks mentioned in Apple's 10-K?\"\n",
        "- \"Where are the primary suppliers for Apple?\"\n",
        "- \"Where are the top 5 ROI product lines for Apple\"\n",
        "\n",
        "---\n",
        "\n",
        "### ✅ Outcome\n",
        "This notebook serves as a working **prototype GraphRAG system** that uses a structured knowledge graph, computes embeddings, and integrates with a generative LLM to deliver smart, context-aware answers based on 10-K filings.\n"
      ],
      "metadata": {
        "id": "DgAdzwRpvEor"
      }
    }
  ]
}